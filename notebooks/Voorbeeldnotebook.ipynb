{
 "cells": [
  {
   "cell_type": "markdown",
   "metadata": {},
   "source": [
    "# An example machine learning notebook\n",
    "\n",
    "### Notebook by [Paul van der Zee](http://www.google.com/)\n",
    "#### Supported by [Reviewer](http://www.google.com/)\n",
    "#### [Bedrijf waar je het voor doet met locatie](http://www.google.com/)\n",
    "\n",
    "---"
   ]
  },
  {
   "cell_type": "markdown",
   "metadata": {},
   "source": [
    "## Table of contents\n",
    "\n",
    "1. [Introduction](#Introduction)\n",
    "\n",
    "2. [The problem domain](#The-problem-domain)\n",
    "\n",
    "4. [Business Understanding](#Business-Understanding)\n",
    "\n",
    "5. [Required libraries](#Required-libraries)\n",
    "\n",
    "6. [Data Understanding](#Data-Understanding)\n",
    "\n",
    "7. [Data Prepartion](#Data-Preparation)\n",
    "\n",
    "8. [Modeling](#Modeling)\n",
    "\n",
    "9. [Evaluation](#Evaluation)\n",
    "\n",
    "10. [Reproducibility](#Reproducibility)\n",
    "\n",
    "---"
   ]
  },
  {
   "cell_type": "markdown",
   "metadata": {},
   "source": [
    "# Introduction\n",
    "\n",
    "[[ go back to the top ]](#Table-of-contents)\n",
    "\n",
    "Wat je gaat benoemen in het notebook, eigenlijk een normale introductie van een document.\n",
    "\n",
    "---"
   ]
  },
  {
   "cell_type": "markdown",
   "metadata": {},
   "source": [
    "# The problem domain\n",
    "\n",
    "[[ go back to the top ]](#Table-of-contents)\n",
    "\n",
    "*Hier ga je een beetje benoemen waarom je het doet, maar vooral ga je het over het domein hebben en dit contextualiseren met bijvoorbeeld afbeeldingen, waardoor de lezer een beeld krijgt waar het over gaat, voorbeeld:*\n",
    "\n",
    "We've been tasked by our partner company Noesis to do research what feature extraction is the best to create a machine learning model to predict specific audio.\n",
    "\n",
    "### WAV plot\n",
    "<img src=\"https://i.sstatic.net/xBtm6.png\" width=\"600\" height=\"300\"/>\n",
    "\n",
    "*uitleg wat het is en repeat voor alles wat relevant is*\n",
    "\n",
    "---"
   ]
  },
  {
   "cell_type": "markdown",
   "metadata": {},
   "source": [
    "# Business Understanding\n",
    "\n",
    "[[ go back to the top ]](#Table-of-contents)\n",
    "\n",
    "*In deze sectie ga je eerst benoemen wat het doel is van de klant, wat in de vorige sectie al kort benoemt is. Hier ga je wat meer de diepte in waarom ze het willen en welk probleem het oplost.* \n",
    "\n",
    "*Vervolgens ga jezelf een reeks aantal vragen stellen zoals:*\n",
    ">Weet je wat je gaat oplossen?\n",
    "\n",
    "*antwoord*\n",
    "\n",
    ">Weet jij wat de KSF's zijn van het project? Wanneer is het project succesvol?\n",
    "\n",
    "*antwoord*\n",
    "\n",
    ">Begrijp jij de context van de vraag van de klant en de business of wetenschappelijke toepassing van het project? (dit helpt om een gerichter te werken naar een oplossing, bijvoorbeeld voor welke doelgroep doe je het)  \n",
    " \n",
    "*antwoord*\n",
    "\n",
    ">Is er een ontwerp of een eindvisie waar je naar toe moet werken?\n",
    "\n",
    "*antwoord*\n",
    "\n",
    ">Heb je overwogen dat de vraag wel opgelost kan worden met de huidige data?\n",
    "\n",
    "*antwoord*\n",
    "\n",
    "*Het idee is dat je de vragen kan beantwoorden voordat je code hebt geschreven, dus via interviews en literatuurstudie*\n",
    "\n",
    "---"
   ]
  },
  {
   "cell_type": "markdown",
   "metadata": {},
   "source": [
    "# Required Libraries\n",
    "\n",
    "[[ go back to the top ]](#Table-of-contents)\n",
    "\n",
    "*korte uitleg over de packages die je gebruikt om het project werkende te krijgen, voorbeeld van een random notebook online:*\n",
    "\n",
    "If you don't have Python on your computer, you can use the [Anaconda Python distribution](http://continuum.io/downloads) to install most of the Python packages you need. Anaconda provides a simple double-click installer for your convenience.\n",
    "\n",
    "This notebook uses several Python packages that come standard with the Anaconda Python distribution. The primary libraries that we'll be using are:\n",
    "\n",
    "* **NumPy**: Provides a fast numerical array structure and helper functions.\n",
    "* **pandas**: Provides a DataFrame structure to store data in memory and work with it easily and efficiently.\n",
    "* **scikit-learn**: The essential Machine Learning package in Python.\n",
    "* **matplotlib**: Basic plotting library in Python; most other Python plotting libraries are built on top of it.\n",
    "* **Seaborn**: Advanced statistical plotting library.\n",
    "* **watermark**: A Jupyter Notebook extension for printing timestamps, version numbers, and hardware information.\n",
    "\n",
    "To make sure you have all of the packages you need, install them with `conda`:\n",
    "\n",
    "    conda install numpy pandas scikit-learn matplotlib seaborn\n",
    "    \n",
    "    conda install -c conda-forge watermark\n",
    "\n",
    "`conda` may ask you to update some of them if you don't have the most recent version. Allow it to do so.\n",
    "\n",
    "**Note:** I will not be providing support for people trying to run this notebook outside of the Anaconda Python distribution."
   ]
  },
  {
   "cell_type": "code",
   "execution_count": null,
   "metadata": {},
   "outputs": [],
   "source": [
    "# Data Manipulation and Analysis\n",
    "import pandas as pd # type: ignore\n",
    "import numpy as np # type: ignore\n",
    "\n",
    "# Machine Learning and Data Preprocessing\n",
    "from sklearn.preprocessing import LabelEncoder # type: ignore\n",
    "from sklearn.model_selection import train_test_split # type: ignore\n",
    "\n",
    "# Visualization\n",
    "import matplotlib.pyplot as plt # type: ignore\n",
    "\n",
    "# System and File Management\n",
    "import sounddevice as sd # type: ignore\n",
    "import sys\n",
    "import os\n",
    "import time\n",
    "\n",
    "# AI packages\n",
    "import tensorflow as tf # type: ignore\n",
    "import tensorflow_probability as tfp # type: ignore\n",
    "\n",
    "# Add a path to the scripts directory\n",
    "sys.path.append(os.path.abspath(os.path.join('..', 'scripts')))\n",
    "\n",
    "# Project-Specific Modules"
   ]
  },
  {
   "cell_type": "markdown",
   "metadata": {},
   "source": [
    "---"
   ]
  },
  {
   "cell_type": "markdown",
   "metadata": {},
   "source": [
    "# Data Understanding\n",
    "\n",
    "[[ go back to the top ]](#Table-of-contents)\n",
    "\n",
    "*hier ga je echt diep de data in doormiddel van stapsgewijze analyze. Bijvoorbeeld:\n",
    "\n",
    ">eerst kijken wat in de data zit met df.head()\n",
    "\n",
    "\"Oh ik zie dat er veel data ontbreekt\" *verwijdert ontbrekende data*\n",
    "\n",
    ">df.describe()\n",
    "\n",
    "\"ik zie nu x\" *doe Y*\n",
    "\n",
    ">enzovoort\n",
    "\n",
    "*Het idee is dus dat je elke regel uitlegt waarom je wat doet. Je eindigt altijd met een opsomming van je bevindingen*\n",
    "\n",
    "---"
   ]
  },
  {
   "cell_type": "markdown",
   "metadata": {},
   "source": [
    "# Data Preparation\n",
    "\n",
    "[[ go back to the top ]](#Table-of-contents)\n",
    "\n",
    "*Simpel gezegd opschonen van je data tot het punt dat je het in een model kan stoppen, kan soms heel klein zijn of heel veel. Hier geldt ook weer, elke stap onderbouwen*\n",
    "\n",
    "---"
   ]
  },
  {
   "cell_type": "markdown",
   "metadata": {},
   "source": [
    "# Modeling\n",
    "\n",
    "[[ go back to the top ]](#Table-of-contents)\n",
    "\n",
    "*Korte uitleg wat voor model je gebruikt en waarom*\n",
    "\n",
    "---"
   ]
  },
  {
   "cell_type": "markdown",
   "metadata": {},
   "source": [
    "# Evaluation \n",
    "\n",
    "[[ go back to the top ]](#Table-of-contents)\n",
    "\n",
    "*Doormiddel van visualisaties laten zien waarom het wel of niet werkt en benoem de vervolgstappen voor vervolg onderzoek*\n",
    "\n",
    "---"
   ]
  },
  {
   "cell_type": "markdown",
   "metadata": {},
   "source": [
    "# Reproducibility\n",
    "\n",
    "[[ go back to the top ]](#Table-of-contents)\n",
    "\n",
    "*Als je notebook niet nagemaakt kan worden is het een slecht notebook, wat je hier kan benoemen is dat er een requirements.txt is met de versies en een compacte versie van je code in 1 codeblock*\n",
    "\n",
    "---"
   ]
  },
  {
   "cell_type": "markdown",
   "metadata": {},
   "source": [
    "Je kan dit ook nog toevoegen:\n",
    "\n",
    "<div class=\"alert alert-block alert-success\"><b>Success:</b> This alert box indicates a successful or positive action.</div>\n",
    "\n",
    "<div class=\"alert alert-block alert-warning\"><b>Example:</b> Use yellow boxes for examples that are not inside code cells, or use for mathematical formulas if needed. Typically also used to display warning messages.</div>\n",
    "\n",
    "<div class=\"alert alert-block alert-info\"><b>Tip:</b> Use blue boxes (alert-info) for tips and notes.</div>\n",
    "\n",
    "<div class=\"alert alert-block alert-danger\"><b>Danger:</b> This alert box indicates a dangerous or potentially negative action.</div>\n",
    "\n",
    "Zo'n markdown block is gewoon HTML-code"
   ]
  },
  {
   "cell_type": "markdown",
   "metadata": {},
   "source": []
  }
 ],
 "metadata": {
  "kernelspec": {
   "display_name": "Python 3",
   "language": "python",
   "name": "python3"
  },
  "language_info": {
   "name": "python",
   "version": "3.9.6"
  }
 },
 "nbformat": 4,
 "nbformat_minor": 2
}
