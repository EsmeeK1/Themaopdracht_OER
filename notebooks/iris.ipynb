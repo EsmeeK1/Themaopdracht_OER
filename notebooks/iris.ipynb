{
 "cells": [
  {
   "cell_type": "markdown",
   "metadata": {},
   "source": [
    "# OER botje Themaopdracht\n",
    "\n",
    "### Notebook by [Iris Oerlemans](http://www.google.com/)\n",
    "\n",
    "---"
   ]
  },
  {
   "cell_type": "markdown",
   "metadata": {},
   "source": [
    "## Table of contents\n",
    "\n",
    "1. [Introduction](#Introduction)\n",
    "\n",
    "2. [The problem domain](#The-problem-domain)\n",
    "\n",
    "4. [Business Understanding](#Business-Understanding)\n",
    "\n",
    "5. [Required libraries](#Required-libraries)\n",
    "\n",
    "6. [Data Understanding](#Data-Understanding)\n",
    "\n",
    "7. [Data Prepartion](#Data-Preparation)\n",
    "\n",
    "8. [Modeling](#Modeling)\n",
    "\n",
    "9. [Evaluation](#Evaluation)\n",
    "\n",
    "10. [Deployment](#Deployment)\n",
    "\n",
    "---"
   ]
  },
  {
   "cell_type": "markdown",
   "metadata": {},
   "source": [
    "# Introduction\n",
    "\n",
    "[[ go back to the top ]](#Table-of-contents)\n",
    "\n",
    "In dit document wordt de toepassing van GUFF met 'geitje' met een semDB verkend. Uiteindelijk wordt hiermee een chatbot gemaakt die vragen kan beantwoorden over het OER (onderwijs en examenregelement). De opdracht komt van Hogeschool Windesheim. \n",
    "Hogeschool Windesheim is een Nederlandse instelling voor hoger onderwijs. De hogeschool biedt een breed aanbod aan bachelor en masteropleidingen op onder andere het gebied van techniek en sociale wetenschappen. \n",
    "Hogeschool Windesheim heeft verschillende vestigingen met ongeveer 1800 medewerkers.\n",
    "\n",
    "\n",
    "---"
   ]
  },
  {
   "cell_type": "markdown",
   "metadata": {},
   "source": [
    "# Business Understanding\n",
    "\n",
    "[[ go back to the top ]](#Table-of-contents)\n",
    "\n",
    "Windesheim ondervind dat leerlingen het onderwijs en examenregelement (OER) onvoldoende bestuderen. Hierom wil Windesheim graag een chatbot hebben zodat leerlingen hier hun vragen aan kwijt kunnen om zo de informatie makkelijker tot zich te nemen. \n",
    "\n",
    ">Wat gaan we oplossen\n",
    "\n",
    "*We lossen op dat leerlingen op een makkelijkere manier de informatie van het OER tot zich kunnen nemen*\n",
    "\n",
    ">Weet jij wat de KSF's zijn van het project?\n",
    "\n",
    "*Het project is succesvol als er een werkende chatbot in een python applicatie inclusief GUI gepresenteerd wordt met daarbij ook de onderbouwing van de gemaakte keuzes*\n",
    "\n",
    ">Wat is de context van de vraag?\n",
    " \n",
    "*De context van de vraag is het ontwikkelen van een chatbot die studenten helpt informatie te vinden over het OER. Studenten hebben vaak moeite om deze documenten goed te begrijpen.*\n",
    "\n",
    ">Is er een ontwerp of een eindvisie?\n",
    "\n",
    "*De eindvisie is om een werkende chatbot te creëeren met daarmee de mogelijkheid om vragen te kunnen stellen over het OER. Daarbij is het doel om de drempel voor het begrijpen van de belangrijke documenten te verlagen voor studenten.*\n",
    "\n",
    ">Kan de vraag worden opgelost met de gegeven dataset\n",
    "\n",
    "*De dataset die is aangeleverd is het OER(wordbestand). Er moet onderzoek worden gedaan hoe we deze kunnen omzetten om te kunnen gebruiken. Indien dit lukt kan de vraag worden opgelost met de gegeven dataset*\n",
    "\n",
    "---"
   ]
  },
  {
   "cell_type": "markdown",
   "metadata": {},
   "source": [
    "# Required Libraries\n",
    "\n",
    "[[ go back to the top ]](#Table-of-contents)\n",
    "\n",
    "*korte uitleg over de packages die je gebruikt om het project werkende te krijgen, voorbeeld van een random notebook online:*\n",
    "\n",
    "If you don't have Python on your computer, you can use the [Anaconda Python distribution](http://continuum.io/downloads) to install most of the Python packages you need. Anaconda provides a simple double-click installer for your convenience.\n",
    "\n",
    "This notebook uses several Python packages that come standard with the Anaconda Python distribution. The primary libraries that we'll be using are:\n",
    "\n",
    "* **NumPy**: Provides a fast numerical array structure and helper functions.\n",
    "* **pandas**: Provides a DataFrame structure to store data in memory and work with it easily and efficiently.\n",
    "* **scikit-learn**: The essential Machine Learning package in Python.\n",
    "* **matplotlib**: Basic plotting library in Python; most other Python plotting libraries are built on top of it.\n",
    "* **Seaborn**: Advanced statistical plotting library.\n",
    "* **watermark**: A Jupyter Notebook extension for printing timestamps, version numbers, and hardware information.\n",
    "\n",
    "To make sure you have all of the packages you need, install them with `conda`:\n",
    "\n",
    "    conda install numpy pandas scikit-learn matplotlib seaborn\n",
    "    \n",
    "    conda install -c conda-forge watermark\n",
    "\n",
    "`conda` may ask you to update some of them if you don't have the most recent version. Allow it to do so.\n",
    "\n",
    "**Note:** I will not be providing support for people trying to run this notebook outside of the Anaconda Python distribution."
   ]
  },
  {
   "cell_type": "code",
   "execution_count": 1,
   "metadata": {},
   "outputs": [
    {
     "name": "stderr",
     "output_type": "stream",
     "text": [
      "2024-10-15 11:52:21.170416: I tensorflow/core/util/port.cc:153] oneDNN custom operations are on. You may see slightly different numerical results due to floating-point round-off errors from different computation orders. To turn them off, set the environment variable `TF_ENABLE_ONEDNN_OPTS=0`.\n",
      "2024-10-15 11:52:22.600432: E external/local_xla/xla/stream_executor/cuda/cuda_fft.cc:485] Unable to register cuFFT factory: Attempting to register factory for plugin cuFFT when one has already been registered\n",
      "2024-10-15 11:52:23.006094: E external/local_xla/xla/stream_executor/cuda/cuda_dnn.cc:8454] Unable to register cuDNN factory: Attempting to register factory for plugin cuDNN when one has already been registered\n",
      "2024-10-15 11:52:23.115735: E external/local_xla/xla/stream_executor/cuda/cuda_blas.cc:1452] Unable to register cuBLAS factory: Attempting to register factory for plugin cuBLAS when one has already been registered\n",
      "2024-10-15 11:52:23.790091: I tensorflow/core/platform/cpu_feature_guard.cc:210] This TensorFlow binary is optimized to use available CPU instructions in performance-critical operations.\n",
      "To enable the following instructions: AVX2 AVX_VNNI FMA, in other operations, rebuild TensorFlow with the appropriate compiler flags.\n"
     ]
    }
   ],
   "source": [
    "# Data Manipulation and Analysis\n",
    "import pandas as pd # type: ignore\n",
    "import numpy as np # type: ignore\n",
    "\n",
    "# Machine Learning and Data Preprocessing\n",
    "from sklearn.preprocessing import LabelEncoder # type: ignore\n",
    "from sklearn.model_selection import train_test_split # type: ignore\n",
    "\n",
    "# Visualization\n",
    "import matplotlib.pyplot as plt # type: ignore\n",
    "\n",
    "# System and File Management\n",
    "import sys\n",
    "import os\n",
    "import time\n",
    "\n",
    "# AI packages\n",
    "import tensorflow as tf # type: ignore\n",
    "\n",
    "# Add a path to the scripts directory\n",
    "sys.path.append(os.path.abspath(os.path.join('..', 'scripts')))\n",
    "\n",
    "# Project-Specific Modules"
   ]
  },
  {
   "cell_type": "markdown",
   "metadata": {},
   "source": [
    "---"
   ]
  },
  {
   "cell_type": "markdown",
   "metadata": {},
   "source": [
    "# Data Understanding\n",
    "\n",
    "[[ go back to the top ]](#Table-of-contents)\n",
    "\n",
    "*hier ga je echt diep de data in doormiddel van stapsgewijze analyze. Bijvoorbeeld:\n",
    "\n",
    ">eerst kijken wat in de data zit met df.head()\n",
    "\n",
    "\"Oh ik zie dat er veel data ontbreekt\" *verwijdert ontbrekende data*\n",
    "\n",
    ">df.describe()\n",
    "\n",
    "\"ik zie nu x\" *doe Y*\n",
    "\n",
    ">enzovoort\n",
    "\n",
    "*Het idee is dus dat je elke regel uitlegt waarom je wat doet. Je eindigt altijd met een opsomming van je bevindingen*\n",
    "\n",
    "---"
   ]
  },
  {
   "cell_type": "markdown",
   "metadata": {},
   "source": [
    "# Data Preparation\n",
    "\n",
    "[[ go back to the top ]](#Table-of-contents)\n",
    "\n",
    "\n",
    "---"
   ]
  },
  {
   "cell_type": "markdown",
   "metadata": {},
   "source": [
    "# Modeling\n",
    "\n",
    "[[ go back to the top ]](#Table-of-contents)\n",
    "\n",
    "\n",
    "---"
   ]
  },
  {
   "cell_type": "markdown",
   "metadata": {},
   "source": [
    "De volgende code is eerst gerund in een notebook. Hierna hebben we bij de deployment dit omgezet in een 'flask' applicatie."
   ]
  },
  {
   "cell_type": "code",
   "execution_count": null,
   "metadata": {},
   "outputs": [],
   "source": [
    "from llama_cpp import Llama\n",
    "import chromadb\n",
    "import warnings\n",
    "warnings.filterwarnings('ignore')\n",
    "from transformers import pipeline\n"
   ]
  },
  {
   "cell_type": "code",
   "execution_count": null,
   "metadata": {},
   "outputs": [],
   "source": [
    "documents = []\n",
    "metadata = []\n",
    "ids = []\n",
    "counter = 0\n",
    "with open('data/Opleidngsdeel_OER_HBO-ICT_Zwolle_2024-2025_Filterd_Modified_Long_Lines.txt', 'r', encoding='utf-8') as lines:\n",
    "    for line in lines:\n",
    "        line=line.split(\" - \") \n",
    "        metadata.append({'kopje': line[1]}) \n",
    "        documents.append(line[0]) \n",
    "        ids.append(str(counter)) \n",
    "        counter+=1\n",
    "print(ids)"
   ]
  },
  {
   "cell_type": "code",
   "execution_count": null,
   "metadata": {},
   "outputs": [],
   "source": [
    "client = chromadb.Client()\n",
    "collection = client.get_or_create_collection(\"information\")\n",
    "\n",
    "collection.add(\n",
    "    documents=documents,\n",
    "    metadatas=metadata,\n",
    "    ids=ids\n",
    ")"
   ]
  },
  {
   "cell_type": "code",
   "execution_count": null,
   "metadata": {},
   "outputs": [],
   "source": [
    "llm = Llama.from_pretrained(\n",
    "\trepo_id=\"BramVanroy/GEITje-7B-ultra-GGUF\",\n",
    "\tfilename=\"geitje-7b-ultra-q8_0.gguf\",\n",
    ")\n",
    "\n",
    "llm.create_chat_completion(\n",
    "\tmessages = [\n",
    "\t\t{\n",
    "\t\t\t\"role\": \"user\",\n",
    "\t\t\t\"content\": \"Wat is de hoofdstad van Frankrijk?\"\n",
    "\t\t}\n",
    "\t]\n",
    ")"
   ]
  },
  {
   "cell_type": "code",
   "execution_count": null,
   "metadata": {},
   "outputs": [],
   "source": [
    "user_input = input(\"Wat is jouw vraag?:\")\n",
    "results = collection.query(\n",
    "    query_texts=[user_input],\n",
    "    n_results=1\n",
    ")\n",
    "results"
   ]
  },
  {
   "cell_type": "code",
   "execution_count": null,
   "metadata": {},
   "outputs": [],
   "source": [
    "result=results['metadatas'][0][0]['kopje']+\" - \" + results['documents'][0][0][:-1]\n",
    "result"
   ]
  },
  {
   "cell_type": "code",
   "execution_count": null,
   "metadata": {},
   "outputs": [],
   "source": [
    "prompt = f\"\"\"\n",
    "voorgestelde antwoord: {result}\n",
    "User input: {user_input}\n",
    "stel een nieuw antwoord voor op basis van het voorgestelde antwoord.\n",
    "\"\"\"\n",
    "print(\"Prompt: \", prompt)\n",
    "inference = llm(prompt, max_tokens=100)\n",
    "generated_text = inference['choices'][0]['text']\n",
    "print(\"Inference: \", generated_text)"
   ]
  },
  {
   "cell_type": "markdown",
   "metadata": {},
   "source": [
    "# Evaluation \n",
    "\n",
    "[[ go back to the top ]](#Table-of-contents)\n",
    "\n",
    "*Doormiddel van visualisaties laten zien waarom het wel of niet werkt en benoem de vervolgstappen voor vervolg onderzoek*\n",
    "\n",
    "---"
   ]
  },
  {
   "attachments": {
    "image.png": {
     "image/png": "[encoded data removed]"
    }
   },
   "cell_type": "markdown",
   "metadata": {},
   "source": [
    "# Deployment\n",
    "\n",
    "[[ go back to the top ]](#Table-of-contents)\n",
    "\n",
    "Een interessante factor van deze opdracht is het uitvoeren van een gedeelte van de deployment. Om dit goed uit te voeren, is er eerst onderzocht hoe 'Flask' werkt. Dit is aangepakt door een super simpele Flask-app te bouwen met een zeer eenvoudige HTML-pagina waarin getypt kon worden en een knop aanwezig was om op te drukken.\n",
    "\n",
    "![image.png](attachment:image.png)\n",
    "\n",
    "Daarna is de werkende modellering code hierin omgezet.\n",
    "\n",
    "Voor de interface is ChatGPT gebruikt. Dit is een tool waar nog niet vaak mee is gewerkt. In het interface-bestand (index.html) zit een combinatie van HTML, CSS en JavaScript.\n",
    "\n",
    "Hierbij was het belangrijk dat er de mogelijkheid is om een vraag te typen en een antwoord te ontvangen (zie modeling), maar ook dat duidelijk zichtbaar is dat het model nog bezig is met het zoeken naar een antwoord. Dit is opgelost door een 'laadteken' en een timer toe te voegen. Hierdoor is te zien dat het systeem nog bezig is met het verwerken van de vraag en het zoeken naar een antwoord.\n",
    "\n",
    "**Vervolgstappen**\n",
    "\n",
    "\n",
    "---"
   ]
  },
  {
   "cell_type": "markdown",
   "metadata": {},
   "source": [
    "Je kan dit ook nog toevoegen:\n",
    "\n",
    "<div class=\"alert alert-block alert-success\"><b>Success:</b> This alert box indicates a successful or positive action.</div>\n",
    "\n",
    "<div class=\"alert alert-block alert-warning\"><b>Example:</b> Use yellow boxes for examples that are not inside code cells, or use for mathematical formulas if needed. Typically also used to display warning messages.</div>\n",
    "\n",
    "<div class=\"alert alert-block alert-info\"><b>Tip:</b> Use blue boxes (alert-info) for tips and notes.</div>\n",
    "\n",
    "<div class=\"alert alert-block alert-danger\"><b>Danger:</b> This alert box indicates a dangerous or potentially negative action.</div>\n",
    "\n",
    "Zo'n markdown block is gewoon HTML-code"
   ]
  },
  {
   "cell_type": "markdown",
   "metadata": {},
   "source": []
  }
 ],
 "metadata": {
  "kernelspec": {
   "display_name": "Python 3",
   "language": "python",
   "name": "python3"
  },
  "language_info": {
   "codemirror_mode": {
    "name": "ipython",
    "version": 3
   },
   "file_extension": ".py",
   "mimetype": "text/x-python",
   "name": "python",
   "nbconvert_exporter": "python",
   "pygments_lexer": "ipython3",
   "version": "2.7.undefined"
  }
 },
 "nbformat": 4,
 "nbformat_minor": 2
}
